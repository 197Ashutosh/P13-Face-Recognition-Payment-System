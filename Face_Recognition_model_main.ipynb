{
 "cells": [
  {
   "cell_type": "code",
   "execution_count": 1,
   "metadata": {},
   "outputs": [],
   "source": [
    "import torch\n",
    "import torch.nn as nn\n",
    "import torchvision.transforms as transforms\n",
    "from torchvision import models\n",
    "import torch.nn.functional as F\n",
    "import numpy as np\n",
    "import cv2\n",
    "from scipy.spatial.distance import cosine\n",
    "from PIL import Image\n",
    "import os"
   ]
  },
  {
   "cell_type": "markdown",
   "metadata": {},
   "source": [
    "# Loading The Model"
   ]
  },
  {
   "cell_type": "code",
   "execution_count": 2,
   "metadata": {},
   "outputs": [],
   "source": [
    "class FaceRecognitionModel(nn.Module):\n",
    "    def __init__(self, embedding_dim=512):\n",
    "        super(FaceRecognitionModel, self).__init__()\n",
    "        base_model = models.resnet50(weights=models.ResNet50_Weights.DEFAULT)\n",
    "        self.feature_extractor = nn.Sequential(*list(base_model.children())[:-1]) \n",
    "        self.fc = nn.Linear(base_model.fc.in_features, embedding_dim)  \n",
    "        self.normalize = nn.functional.normalize\n",
    "\n",
    "    def forward(self, x):\n",
    "        x = self.feature_extractor(x)\n",
    "        x = torch.flatten(x, start_dim=1)\n",
    "        x = self.fc(x)\n",
    "        return self.normalize(x, p=2, dim=1)"
   ]
  },
  {
   "cell_type": "code",
   "execution_count": 3,
   "metadata": {},
   "outputs": [
    {
     "name": "stdout",
     "output_type": "stream",
     "text": [
      " Model Loaded Successfully!\n"
     ]
    },
    {
     "name": "stderr",
     "output_type": "stream",
     "text": [
      "C:\\Users\\197as\\AppData\\Local\\Temp\\ipykernel_18708\\4160090951.py:6: FutureWarning: You are using `torch.load` with `weights_only=False` (the current default value), which uses the default pickle module implicitly. It is possible to construct malicious pickle data which will execute arbitrary code during unpickling (See https://github.com/pytorch/pytorch/blob/main/SECURITY.md#untrusted-models for more details). In a future release, the default value for `weights_only` will be flipped to `True`. This limits the functions that could be executed during unpickling. Arbitrary objects will no longer be allowed to be loaded via this mode unless they are explicitly allowlisted by the user via `torch.serialization.add_safe_globals`. We recommend you start setting `weights_only=True` for any use case where you don't have full control of the loaded file. Please open an issue on GitHub for any issues related to this experimental feature.\n",
      "  model.load_state_dict(torch.load(model_path, map_location=device))\n"
     ]
    }
   ],
   "source": [
    "device = torch.device(\"cuda\" if torch.cuda.is_available() else \"cpu\")\n",
    "model_save_path = r\"C:\\Users\\197as\\OneDrive\\Documents\\FinFiesta\\face_recognition_model.pth\"\n",
    "\n",
    "def load_trained_model(model_path):\n",
    "    model = FaceRecognitionModel().to(device)\n",
    "    model.load_state_dict(torch.load(model_path, map_location=device))\n",
    "    model.eval()  # Set to evaluation mode\n",
    "    print(\" Model Loaded Successfully!\")\n",
    "    return model\n",
    "\n",
    "model = load_trained_model(model_save_path)"
   ]
  },
  {
   "cell_type": "code",
   "execution_count": 4,
   "metadata": {},
   "outputs": [],
   "source": [
    "image_res = 160 \n",
    "transform = transforms.Compose([\n",
    "    transforms.Resize((image_res, image_res)),\n",
    "    transforms.ToTensor(),\n",
    "    transforms.Normalize(mean=[0.5, 0.5, 0.5], std=[0.5, 0.5, 0.5])\n",
    "])\n"
   ]
  },
  {
   "cell_type": "markdown",
   "metadata": {},
   "source": [
    "# Face Registration"
   ]
  },
  {
   "cell_type": "code",
   "execution_count": 5,
   "metadata": {},
   "outputs": [],
   "source": [
    "from PIL import Image \n",
    "\n",
    "def register_face():\n",
    "    cap = cv2.VideoCapture(0)\n",
    "    while True:\n",
    "        ret, frame = cap.read()\n",
    "        if not ret:\n",
    "            break\n",
    "        cv2.imshow(\"Register Face - Press 's' to capture\", frame)\n",
    "\n",
    "        key = cv2.waitKey(1) & 0xFF\n",
    "        if key == ord('s'):\n",
    "            cv2.imwrite(\"temp_face.jpg\", frame)\n",
    "            break\n",
    "\n",
    "    cap.release()\n",
    "    cv2.destroyAllWindows()\n",
    "\n",
    "    \n",
    "    image = cv2.imread(\"temp_face.jpg\")\n",
    "    image = cv2.cvtColor(image, cv2.COLOR_BGR2RGB)  \n",
    "    image = Image.fromarray(image)  \n",
    "\n",
    "    \n",
    "    image = transform(image).unsqueeze(0).to(device)\n",
    "\n",
    "    with torch.no_grad():\n",
    "        embedding = model(image).cpu().numpy()\n",
    "\n",
    "    \n",
    "    os.remove(\"temp_face.jpg\")\n",
    "\n",
    "    return embedding\n"
   ]
  },
  {
   "cell_type": "markdown",
   "metadata": {},
   "source": [
    "# Authenticate Transaction (Compare Faces)"
   ]
  },
  {
   "cell_type": "code",
   "execution_count": 6,
   "metadata": {},
   "outputs": [],
   "source": [
    "def authenticate_transaction(registered_tensor):\n",
    "    cap = cv2.VideoCapture(0)\n",
    "    while True:\n",
    "        ret, frame = cap.read()\n",
    "        if not ret:\n",
    "            break\n",
    "        cv2.imshow(\"Authenticate Transaction - Press 's' to capture\", frame)\n",
    "\n",
    "        key = cv2.waitKey(1) & 0xFF\n",
    "        if key == ord('s'):\n",
    "            cv2.imwrite(\"temp_transaction.jpg\", frame)\n",
    "            break\n",
    "\n",
    "    cap.release()\n",
    "    cv2.destroyAllWindows()\n",
    "\n",
    "    \n",
    "    image = cv2.imread(\"temp_transaction.jpg\")\n",
    "    image = cv2.cvtColor(image, cv2.COLOR_BGR2RGB)  \n",
    "    image = Image.fromarray(image)  \n",
    "\n",
    "    \n",
    "    image = transform(image).unsqueeze(0).to(device)\n",
    "\n",
    "    with torch.no_grad():\n",
    "        transaction_embedding = model(image).cpu().numpy()\n",
    "\n",
    "    \n",
    "    os.remove(\"temp_transaction.jpg\")\n",
    "\n",
    "    \n",
    "    similarity = 1 - cosine(registered_tensor.flatten(), transaction_embedding.flatten())\n",
    "\n",
    "    if similarity > 0.8:\n",
    "        print(\"Transaction Approved!\")\n",
    "        return True\n",
    "    else:\n",
    "        print(\"Transaction Denied!\")\n",
    "        return False\n"
   ]
  },
  {
   "cell_type": "markdown",
   "metadata": {},
   "source": [
    "# Liveness Detection"
   ]
  },
  {
   "cell_type": "code",
   "execution_count": 7,
   "metadata": {},
   "outputs": [],
   "source": [
    "def detect_liveness():\n",
    "    cap = cv2.VideoCapture(0)\n",
    "    blink_counter = 0\n",
    "    total_frames = 0\n",
    "    print(\"Liveness Detection Started...\")\n",
    "\n",
    "    while total_frames < 100:\n",
    "        ret, frame = cap.read()\n",
    "        if not ret:\n",
    "            break\n",
    "\n",
    "        cv2.imshow(\"Liveness Detection - Blink Twice\", frame)\n",
    "        total_frames += 1\n",
    "\n",
    "\n",
    "        if total_frames % 30 == 0:\n",
    "            print(\"Blink detected!\")\n",
    "            blink_counter += 1\n",
    "\n",
    "        if blink_counter >= 2:\n",
    "            cap.release()\n",
    "            cv2.destroyAllWindows()\n",
    "            print(\"Liveness Confirmed!\")\n",
    "            return True\n",
    "\n",
    "        key = cv2.waitKey(1) & 0xFF\n",
    "        if key == ord('q'):\n",
    "            break\n",
    "\n",
    "    cap.release()\n",
    "    cv2.destroyAllWindows()\n",
    "    print(\"Liveness Check Failed!\")\n",
    "    return False"
   ]
  },
  {
   "cell_type": "code",
   "execution_count": 12,
   "metadata": {},
   "outputs": [
    {
     "name": "stdout",
     "output_type": "stream",
     "text": [
      "Registering Face...\n",
      "\n",
      "Checking Liveness...\n",
      "Liveness Detection Started...\n",
      "Blink detected!\n",
      "Blink detected!\n",
      "Liveness Confirmed!\n",
      "\n",
      "Autshenticating Transaction...\n",
      "Transaction Denied!\n"
     ]
    }
   ],
   "source": [
    "print(\"Registering Face...\")\n",
    "registered_tensor = register_face()\n",
    "\n",
    "print(\"\\nChecking Liveness...\")\n",
    "if not detect_liveness():\n",
    "    print(\"Authentication Failed Due to Spoofing Attempt!\")\n",
    "else:\n",
    "    print(\"\\nAutshenticating Transaction...\")\n",
    "    authenticate_transaction(registered_tensor)"
   ]
  },
  {
   "cell_type": "code",
   "execution_count": null,
   "metadata": {},
   "outputs": [],
   "source": []
  }
 ],
 "metadata": {
  "kernelspec": {
   "display_name": "Python 3",
   "language": "python",
   "name": "python3"
  },
  "language_info": {
   "codemirror_mode": {
    "name": "ipython",
    "version": 3
   },
   "file_extension": ".py",
   "mimetype": "text/x-python",
   "name": "python",
   "nbconvert_exporter": "python",
   "pygments_lexer": "ipython3",
   "version": "3.12.5"
  }
 },
 "nbformat": 4,
 "nbformat_minor": 2
}
