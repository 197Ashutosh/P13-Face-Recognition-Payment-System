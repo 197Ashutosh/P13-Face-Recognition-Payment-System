{
 "cells": [
  {
   "cell_type": "code",
   "execution_count": 1,
   "metadata": {},
   "outputs": [],
   "source": [
    "from pathlib import Path\n",
    "import torch\n",
    "import torch.nn as nn\n",
    "import torch.optim as optim\n",
    "import torchvision.transforms as transforms\n",
    "from torchvision import datasets, models\n",
    "from torch.utils.data import DataLoader\n",
    "import torch.nn.functional as F\n",
    "import numpy as np\n",
    "import cv2\n",
    "from scipy.spatial.distance import cosine\n",
    "import os"
   ]
  },
  {
   "cell_type": "code",
   "execution_count": 4,
   "metadata": {},
   "outputs": [],
   "source": [
    "dataset_path = Path(r\"C:\\Users\\197as\\OneDrive\\Documents\\FinFiesta\\Face_Recognition\")\n",
    "train_dir = dataset_path / \"train\"\n",
    "test_dir = dataset_path / \"val\""
   ]
  },
  {
   "cell_type": "code",
   "execution_count": 5,
   "metadata": {},
   "outputs": [],
   "source": [
    "image_res = 160 \n",
    "transform = transforms.Compose([\n",
    "    transforms.Resize((image_res, image_res)),\n",
    "    transforms.ToTensor(),\n",
    "    transforms.Normalize(mean=[0.5, 0.5, 0.5], std=[0.5, 0.5, 0.5])\n",
    "])"
   ]
  },
  {
   "cell_type": "code",
   "execution_count": 6,
   "metadata": {},
   "outputs": [],
   "source": [
    "train_data = datasets.ImageFolder(root=train_dir, transform=transform)\n",
    "test_data = datasets.ImageFolder(root=test_dir, transform=transform)"
   ]
  },
  {
   "cell_type": "code",
   "execution_count": null,
   "metadata": {},
   "outputs": [
    {
     "name": "stdout",
     "output_type": "stream",
     "text": [
      "Loaded Dataset: Train Samples: 176398, Test Samples: 21295\n",
      "Classes: ['n000002', 'n000003', 'n000004', 'n000005', 'n000006', 'n000007', 'n000008', 'n000010', 'n000011', 'n000012', 'n000013', 'n000014', 'n000015', 'n000016', 'n000017', 'n000018', 'n000019', 'n000020', 'n000021', 'n000022', 'n000023', 'n000024', 'n000025', 'n000026', 'n000027', 'n000028', 'n000030', 'n000031', 'n000032', 'n000033', 'n000034', 'n000035', 'n000036', 'n000037', 'n000038', 'n000039', 'n000041', 'n000042', 'n000043', 'n000044', 'n000045', 'n000046', 'n000047', 'n000048', 'n000049', 'n000050', 'n000051', 'n000052', 'n000053', 'n000054', 'n000055', 'n000056', 'n000057', 'n000058', 'n000059', 'n000060', 'n000061', 'n000062', 'n000063', 'n000064', 'n000065', 'n000066', 'n000067', 'n000068', 'n000069', 'n000070', 'n000071', 'n000072', 'n000073', 'n000074', 'n000075', 'n000076', 'n000077', 'n000079', 'n000080', 'n000081', 'n000083', 'n000084', 'n000085', 'n000086', 'n000087', 'n000088', 'n000089', 'n000090', 'n000091', 'n000092', 'n000093', 'n000094', 'n000095', 'n000096', 'n000097', 'n000098', 'n000099', 'n000100', 'n000101', 'n000102', 'n000103', 'n000104', 'n000105', 'n000107', 'n000108', 'n000109', 'n000110', 'n000111', 'n000112', 'n000113', 'n000114', 'n000115', 'n000116', 'n000117', 'n000118', 'n000119', 'n000120', 'n000121', 'n000122', 'n000123', 'n000124', 'n000125', 'n000126', 'n000127', 'n000128', 'n000130', 'n000131', 'n000132', 'n000133', 'n000134', 'n000135', 'n000136', 'n000137', 'n000138', 'n000139', 'n000140', 'n000141', 'n000142', 'n000143', 'n000144', 'n000145', 'n000146', 'n000150', 'n000151', 'n000152', 'n000154', 'n000155', 'n000156', 'n000157', 'n000158', 'n000159', 'n000160', 'n000161', 'n000162', 'n000163', 'n000164', 'n000165', 'n000166', 'n000167', 'n000168', 'n000169', 'n000170', 'n000171', 'n000172', 'n000173', 'n000174', 'n000175', 'n000176', 'n000177', 'n000179', 'n000180', 'n000181', 'n000182', 'n000183', 'n000184', 'n000185', 'n000186', 'n000187', 'n000188', 'n000189', 'n000190', 'n000191', 'n000192', 'n000193', 'n000194', 'n000195', 'n000196', 'n000197', 'n000198', 'n000199', 'n000201', 'n000202', 'n000203', 'n000204', 'n000205', 'n000206', 'n000207', 'n000208', 'n000209', 'n000210', 'n000211', 'n000212', 'n000213', 'n000214', 'n000215', 'n000216', 'n000217', 'n000218', 'n000219', 'n000220', 'n000221', 'n000222', 'n000223', 'n000224', 'n000225', 'n000226', 'n000227', 'n000228', 'n000229', 'n000230', 'n000231', 'n000232', 'n000233', 'n000234', 'n000235', 'n000236', 'n000237', 'n000238', 'n000239', 'n000240', 'n000241', 'n000242', 'n000243', 'n000244', 'n000245', 'n000246', 'n000247', 'n000248', 'n000249', 'n000250', 'n000251', 'n000252', 'n000253', 'n000254', 'n000255', 'n000256', 'n000257', 'n000258', 'n000260', 'n000261', 'n000262', 'n000263', 'n000264', 'n000265', 'n000266', 'n000267', 'n000268', 'n000269', 'n000270', 'n000271', 'n000272', 'n000273', 'n000274', 'n000275', 'n000276', 'n000277', 'n000278', 'n000279', 'n000280', 'n000281', 'n000282', 'n000283', 'n000285', 'n000286', 'n000287', 'n000288', 'n000289', 'n000290', 'n000291', 'n000292', 'n000293', 'n000294', 'n000295', 'n000296', 'n000297', 'n000298', 'n000299', 'n000300', 'n000301', 'n000302', 'n000303', 'n000304', 'n000305', 'n000306', 'n000307', 'n000308', 'n000309', 'n000310', 'n000311', 'n000312', 'n000313', 'n000314', 'n000315', 'n000316', 'n000317', 'n000318', 'n000319', 'n000320', 'n000321', 'n000322', 'n000323', 'n000324', 'n000325', 'n000326', 'n000327', 'n000328', 'n000329', 'n000330', 'n000331', 'n000332', 'n000333', 'n000334', 'n000335', 'n000336', 'n000337', 'n000338', 'n000339', 'n000340', 'n000341', 'n000342', 'n000343', 'n000344', 'n000345', 'n000346', 'n000347', 'n000348', 'n000349', 'n000350', 'n000351', 'n000352', 'n000353', 'n000354', 'n000355', 'n000356', 'n000357', 'n000358', 'n000359', 'n000360', 'n000361', 'n000362', 'n000364', 'n000365', 'n000366', 'n000367', 'n000368', 'n000369', 'n000370', 'n000371', 'n000372', 'n000373', 'n000374', 'n000375', 'n000376', 'n000377', 'n000378', 'n000379', 'n000380', 'n000381', 'n000382', 'n000383', 'n000384', 'n000385', 'n000386', 'n000387', 'n000388', 'n000389', 'n000390', 'n000391', 'n000392', 'n000393', 'n000395', 'n000396', 'n000397', 'n000398', 'n000399', 'n000400', 'n000401', 'n000402', 'n000403', 'n000405', 'n000406', 'n000407', 'n000408', 'n000409', 'n000411', 'n000412', 'n000413', 'n000414', 'n000415', 'n000416', 'n000417', 'n000418', 'n000419', 'n000420', 'n000421', 'n000422', 'n000423', 'n000424', 'n000425', 'n000426', 'n000427', 'n000428', 'n000429', 'n000430', 'n000431', 'n000432', 'n000433', 'n000434', 'n000435', 'n000436', 'n000437', 'n000438', 'n000439', 'n000440', 'n000441', 'n000442', 'n000443', 'n000444', 'n000445', 'n000446', 'n000447', 'n000448', 'n000449', 'n000450', 'n000451', 'n000453', 'n000454', 'n000455', 'n000456', 'n000457', 'n000458', 'n000459', 'n000460', 'n000461', 'n000462', 'n000463', 'n000464', 'n000465', 'n000466', 'n000467', 'n000468', 'n000469', 'n000470', 'n000471', 'n000472', 'n000473', 'n000474', 'n000475', 'n000476', 'n000477', 'n000478', 'n000479', 'n000481', 'n000482', 'n000483', 'n000484', 'n000485', 'n000486', 'n000487', 'n000488', 'n000489', 'n000490', 'n000491', 'n000492', 'n000493', 'n000494', 'n000495', 'n000496', 'n000497', 'n000498', 'n000499', 'n000500', 'n000501', 'n000502']\n"
     ]
    }
   ],
   "source": [
    "BATCH_SIZE = 32\n",
    "NUM_WORKERS = os.cpu_count()\n",
    "\n",
    "train_dataloader = DataLoader(dataset=train_data, batch_size=BATCH_SIZE, shuffle=True, num_workers=NUM_WORKERS)\n",
    "test_dataloader = DataLoader(dataset=test_data, batch_size=BATCH_SIZE, shuffle=False, num_workers=NUM_WORKERS)\n",
    "\n",
    "print(f\"Loaded Dataset: Train Samples: {len(train_data)}, Test Samples: {len(test_data)}\")\n",
    "print(f\"Classes: {train_data.classes}\")"
   ]
  },
  {
   "cell_type": "markdown",
   "metadata": {},
   "source": [
    "# Model"
   ]
  },
  {
   "cell_type": "code",
   "execution_count": null,
   "metadata": {},
   "outputs": [],
   "source": [
    "class FaceRecognitionModel(nn.Module):\n",
    "    def __init__(self, embedding_dim=512):\n",
    "        super(FaceRecognitionModel, self).__init__()\n",
    "        base_model = models.resnet50(weights=models.ResNet50_Weights.DEFAULT)\n",
    "        self.feature_extractor = nn.Sequential(*list(base_model.children())[:-1])  \n",
    "        self.fc = nn.Linear(base_model.fc.in_features, embedding_dim)  \n",
    "        self.normalize = nn.functional.normalize\n",
    "\n",
    "    def forward(self, x):\n",
    "        x = self.feature_extractor(x)\n",
    "        x = torch.flatten(x, start_dim=1)\n",
    "        x = self.fc(x)\n",
    "        return self.normalize(x, p=2, dim=1)"
   ]
  },
  {
   "cell_type": "code",
   "execution_count": 15,
   "metadata": {},
   "outputs": [
    {
     "name": "stdout",
     "output_type": "stream",
     "text": [
      "cuda\n",
      "Face Recognition Model Loaded!\n"
     ]
    }
   ],
   "source": [
    "device = torch.device(\"cuda\" if torch.cuda.is_available() else \"cpu\")\n",
    "print(device)\n",
    "model = FaceRecognitionModel().to(device)\n",
    "print(\"Face Recognition Model Loaded!\")"
   ]
  },
  {
   "cell_type": "code",
   "execution_count": 16,
   "metadata": {},
   "outputs": [],
   "source": [
    "class ArcFaceLoss(nn.Module):\n",
    "    def __init__(self, scale=30.0, margin=0.5):\n",
    "        super(ArcFaceLoss, self).__init__()\n",
    "        self.scale = scale\n",
    "        self.margin = margin\n",
    "\n",
    "    def forward(self, logits, labels):\n",
    "        theta = torch.acos(torch.clamp(logits, -1.0, 1.0))  \n",
    "        theta_m = theta + self.margin\n",
    "        logits_m = torch.cos(theta_m)\n",
    "        logits_m = logits_m * self.scale\n",
    "        return F.cross_entropy(logits_m, labels)"
   ]
  },
  {
   "cell_type": "code",
   "execution_count": 17,
   "metadata": {},
   "outputs": [
    {
     "name": "stdout",
     "output_type": "stream",
     "text": [
      "Epoch 1/2, Loss: 2.7749042016136953\n",
      "Epoch 2/2, Loss: 1.093436038853057\n",
      "✅ Training Complete!\n"
     ]
    }
   ],
   "source": [
    "epochs = 2\n",
    "learning_rate = 0.001\n",
    "criterion = ArcFaceLoss()\n",
    "optimizer = optim.Adam(model.parameters(), lr=learning_rate)\n",
    "\n",
    "for epoch in range(epochs):\n",
    "    model.train()\n",
    "    running_loss = 0.0\n",
    "\n",
    "    for images, labels in train_dataloader:\n",
    "        images, labels = images.to(device), labels.to(device)\n",
    "        \n",
    "        optimizer.zero_grad()\n",
    "        embeddings = model(images)\n",
    "        loss = criterion(embeddings, labels)\n",
    "        loss.backward()\n",
    "        optimizer.step()\n",
    "        \n",
    "        running_loss += loss.item()\n",
    "\n",
    "    print(f\"Epoch {epoch+1}/{epochs}, Loss: {running_loss / len(train_dataloader)}\")\n",
    "\n",
    "print(\"Training Complete!\")"
   ]
  },
  {
   "cell_type": "markdown",
   "metadata": {},
   "source": [
    "# Saving model "
   ]
  },
  {
   "cell_type": "code",
   "execution_count": 18,
   "metadata": {},
   "outputs": [
    {
     "name": "stdout",
     "output_type": "stream",
     "text": [
      "Model saved successfully at C:\\Users\\197as\\OneDrive\\Documents\\FinFiesta\\face_recognition_model.pth!\n"
     ]
    },
    {
     "name": "stderr",
     "output_type": "stream",
     "text": [
      "C:\\Users\\197as\\AppData\\Local\\Temp\\ipykernel_20796\\3641471914.py:8: FutureWarning: You are using `torch.load` with `weights_only=False` (the current default value), which uses the default pickle module implicitly. It is possible to construct malicious pickle data which will execute arbitrary code during unpickling (See https://github.com/pytorch/pytorch/blob/main/SECURITY.md#untrusted-models for more details). In a future release, the default value for `weights_only` will be flipped to `True`. This limits the functions that could be executed during unpickling. Arbitrary objects will no longer be allowed to be loaded via this mode unless they are explicitly allowlisted by the user via `torch.serialization.add_safe_globals`. We recommend you start setting `weights_only=True` for any use case where you don't have full control of the loaded file. Please open an issue on GitHub for any issues related to this experimental feature.\n",
      "  model.load_state_dict(torch.load(model_path, map_location=device))\n"
     ]
    },
    {
     "name": "stdout",
     "output_type": "stream",
     "text": [
      " Model Loaded from Disk!\n"
     ]
    }
   ],
   "source": [
    "\n",
    "model_save_path = r\"C:\\Users\\197as\\OneDrive\\Documents\\FinFiesta\\face_recognition_model.pth\"\n",
    "\n",
    "torch.save(model.state_dict(), model_save_path)  \n",
    "print(f\"Model saved successfully at {model_save_path}!\")\n",
    "  \n",
    "def load_trained_model(model_path):\n",
    "    model = FaceRecognitionModel().to(device)\n",
    "    model.load_state_dict(torch.load(model_path, map_location=device))\n",
    "    model.eval()  # Set to evaluation mode\n",
    "    print(\" Model Loaded from Disk!\")\n",
    "    return model\n",
    "  \n",
    "model = load_trained_model(model_save_path)\n"
   ]
  }
 ],
 "metadata": {
  "kernelspec": {
   "display_name": "Python 3",
   "language": "python",
   "name": "python3"
  },
  "language_info": {
   "codemirror_mode": {
    "name": "ipython",
    "version": 3
   },
   "file_extension": ".py",
   "mimetype": "text/x-python",
   "name": "python",
   "nbconvert_exporter": "python",
   "pygments_lexer": "ipython3",
   "version": "3.12.5"
  }
 },
 "nbformat": 4,
 "nbformat_minor": 2
}
